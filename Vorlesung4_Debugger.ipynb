{
 "cells": [
  {
   "cell_type": "markdown",
   "metadata": {},
   "source": [
    "# Fehlersuche in Jupyter Notebooks mit dem PixieDebugger\n",
    "Dieses Notebook zeigt, wie man innerhalb eines Jupyter Notebooks den Debugger aufruft.\n",
    "Zunächst muss das Paket Pixydust installiert werden:"
   ]
  },
  {
   "cell_type": "code",
   "execution_count": 9,
   "metadata": {},
   "outputs": [
    {
     "name": "stdout",
     "output_type": "stream",
     "text": [
      "Requirement already satisfied: pixiedust in c:\\users\\triltsch\\appdata\\local\\continuum\\anaconda3\\lib\\site-packages (1.1.17)\n",
      "Requirement already satisfied: requests in c:\\users\\triltsch\\appdata\\local\\continuum\\anaconda3\\lib\\site-packages (from pixiedust) (2.22.0)\n",
      "Requirement already satisfied: mpld3 in c:\\users\\triltsch\\appdata\\local\\continuum\\anaconda3\\lib\\site-packages (from pixiedust) (0.3)\n",
      "Requirement already satisfied: astunparse in c:\\users\\triltsch\\appdata\\local\\continuum\\anaconda3\\lib\\site-packages (from pixiedust) (1.6.2)\n",
      "Requirement already satisfied: geojson in c:\\users\\triltsch\\appdata\\local\\continuum\\anaconda3\\lib\\site-packages (from pixiedust) (2.5.0)\n",
      "Requirement already satisfied: colour in c:\\users\\triltsch\\appdata\\local\\continuum\\anaconda3\\lib\\site-packages (from pixiedust) (0.1.5)\n",
      "Requirement already satisfied: lxml in c:\\users\\triltsch\\appdata\\local\\continuum\\anaconda3\\lib\\site-packages (from pixiedust) (4.3.4)\n",
      "Requirement already satisfied: markdown in c:\\users\\triltsch\\appdata\\local\\continuum\\anaconda3\\lib\\site-packages (from pixiedust) (3.1.1)\n",
      "Requirement already satisfied: urllib3!=1.25.0,!=1.25.1,<1.26,>=1.21.1 in c:\\users\\triltsch\\appdata\\local\\continuum\\anaconda3\\lib\\site-packages (from requests->pixiedust) (1.24.2)\n",
      "Requirement already satisfied: chardet<3.1.0,>=3.0.2 in c:\\users\\triltsch\\appdata\\local\\continuum\\anaconda3\\lib\\site-packages (from requests->pixiedust) (3.0.4)\n",
      "Requirement already satisfied: idna<2.9,>=2.5 in c:\\users\\triltsch\\appdata\\local\\continuum\\anaconda3\\lib\\site-packages (from requests->pixiedust) (2.8)\n",
      "Requirement already satisfied: certifi>=2017.4.17 in c:\\users\\triltsch\\appdata\\local\\continuum\\anaconda3\\lib\\site-packages (from requests->pixiedust) (2019.6.16)\n",
      "Requirement already satisfied: six<2.0,>=1.6.1 in c:\\users\\triltsch\\appdata\\local\\continuum\\anaconda3\\lib\\site-packages (from astunparse->pixiedust) (1.12.0)\n",
      "Requirement already satisfied: wheel<1.0,>=0.23.0 in c:\\users\\triltsch\\appdata\\local\\continuum\\anaconda3\\lib\\site-packages (from astunparse->pixiedust) (0.33.4)\n",
      "Requirement already satisfied: setuptools>=36 in c:\\users\\triltsch\\appdata\\local\\continuum\\anaconda3\\lib\\site-packages (from markdown->pixiedust) (41.0.1)\n",
      "Note: you may need to restart the kernel to use updated packages.\n"
     ]
    }
   ],
   "source": [
    "pip install pixiedust"
   ]
  },
  {
   "cell_type": "markdown",
   "metadata": {},
   "source": [
    "Dann muss das Modul pixiedust importiert werden:"
   ]
  },
  {
   "cell_type": "code",
   "execution_count": 1,
   "metadata": {},
   "outputs": [
    {
     "name": "stdout",
     "output_type": "stream",
     "text": [
      "Pixiedust database opened successfully\n"
     ]
    },
    {
     "data": {
      "text/html": [
       "\n",
       "        <div style=\"margin:10px\">\n",
       "            <a href=\"https://github.com/ibm-watson-data-lab/pixiedust\" target=\"_new\">\n",
       "                <img src=\"https://github.com/ibm-watson-data-lab/pixiedust/raw/master/docs/_static/pd_icon32.png\" style=\"float:left;margin-right:10px\"/>\n",
       "            </a>\n",
       "            <span>Pixiedust version 1.1.17</span>\n",
       "        </div>\n",
       "        "
      ],
      "text/plain": [
       "<IPython.core.display.HTML object>"
      ]
     },
     "metadata": {},
     "output_type": "display_data"
    }
   ],
   "source": [
    "import pixiedust"
   ]
  },
  {
   "cell_type": "markdown",
   "metadata": {},
   "source": [
    "Der Debugger kann genutzt werden, indem ein sogenanntes Magic \"%%pixie_debugger\" eingefügt wird. Das folgende Beispiel zeigt die Funktionsweise:"
   ]
  },
  {
   "cell_type": "code",
   "execution_count": null,
   "metadata": {
    "pixiedust": {
     "displayParams": {}
    }
   },
   "outputs": [
    {
     "data": {
      "text/html": [
       "<style type=\"text/css\">.pd_warning{display:none;}</style><div class=\"pd_warning\"><em>Hey, there's something awesome here! To see it, open this notebook outside GitHub, in a viewer like Jupyter</em></div>"
      ],
      "text/plain": [
       "<IPython.core.display.HTML object>"
      ]
     },
     "metadata": {
      "pixieapp_metadata": null
     },
     "output_type": "display_data"
    }
   ],
   "source": [
    "%%pixie_debugger\n",
    "i = 1\n",
    "while i != 10:\n",
    "  print(i)\n",
    "  i += i"
   ]
  }
 ],
 "metadata": {
  "kernelspec": {
   "display_name": "Python 3",
   "language": "python",
   "name": "python3"
  },
  "language_info": {
   "codemirror_mode": {
    "name": "ipython",
    "version": 3
   },
   "file_extension": ".py",
   "mimetype": "text/x-python",
   "name": "python",
   "nbconvert_exporter": "python",
   "pygments_lexer": "ipython3",
   "version": "3.7.3"
  }
 },
 "nbformat": 4,
 "nbformat_minor": 2
}
